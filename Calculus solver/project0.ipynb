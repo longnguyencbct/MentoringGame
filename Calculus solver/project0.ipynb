{
 "cells": [
  {
   "cell_type": "code",
   "execution_count": 325,
   "metadata": {},
   "outputs": [],
   "source": [
    "import sympy as sym"
   ]
  },
  {
   "cell_type": "code",
   "execution_count": 326,
   "metadata": {},
   "outputs": [],
   "source": [
    "x = sym.Symbol('x')\n",
    "m = sym.Symbol('m')"
   ]
  },
  {
   "cell_type": "code",
   "execution_count": null,
   "metadata": {},
   "outputs": [],
   "source": [
    "y=(x-sym.sin(x))*(x-m-3)*(x-sym.sqrt(9-m**2))**3\n",
    "c=x"
   ]
  },
  {
   "cell_type": "code",
   "execution_count": 334,
   "metadata": {},
   "outputs": [],
   "source": [
    "c=x"
   ]
  },
  {
   "cell_type": "code",
   "execution_count": null,
   "metadata": {},
   "outputs": [],
   "source": [
    "y"
   ]
  },
  {
   "cell_type": "code",
   "execution_count": null,
   "metadata": {},
   "outputs": [],
   "source": [
    "dy=sym.diff(y,x)"
   ]
  },
  {
   "cell_type": "code",
   "execution_count": 328,
   "metadata": {},
   "outputs": [],
   "source": [
    "dy=(x-sym.sin(x))*(x-m-3)*(x-sym.sqrt(9-m**2))**3"
   ]
  },
  {
   "cell_type": "code",
   "execution_count": 329,
   "metadata": {},
   "outputs": [
    {
     "data": {
      "text/latex": [
       "$\\displaystyle \\left(x - \\sqrt{9 - m^{2}}\\right)^{3} \\left(x - \\sin{\\left(x \\right)}\\right) \\left(- m + x - 3\\right)$"
      ],
      "text/plain": [
       "(x - sqrt(9 - m**2))**3*(x - sin(x))*(-m + x - 3)"
      ]
     },
     "execution_count": 329,
     "metadata": {},
     "output_type": "execute_result"
    }
   ],
   "source": [
    "dy"
   ]
  },
  {
   "cell_type": "code",
   "execution_count": 330,
   "metadata": {},
   "outputs": [],
   "source": [
    "ddy=sym.diff(dy,x)"
   ]
  },
  {
   "cell_type": "code",
   "execution_count": 331,
   "metadata": {},
   "outputs": [
    {
     "data": {
      "text/latex": [
       "$\\displaystyle \\left(1 - \\cos{\\left(x \\right)}\\right) \\left(x - \\sqrt{9 - m^{2}}\\right)^{3} \\left(- m + x - 3\\right) + \\left(x - \\sqrt{9 - m^{2}}\\right)^{3} \\left(x - \\sin{\\left(x \\right)}\\right) + 3 \\left(x - \\sqrt{9 - m^{2}}\\right)^{2} \\left(x - \\sin{\\left(x \\right)}\\right) \\left(- m + x - 3\\right)$"
      ],
      "text/plain": [
       "(1 - cos(x))*(x - sqrt(9 - m**2))**3*(-m + x - 3) + (x - sqrt(9 - m**2))**3*(x - sin(x)) + 3*(x - sqrt(9 - m**2))**2*(x - sin(x))*(-m + x - 3)"
      ]
     },
     "execution_count": 331,
     "metadata": {},
     "output_type": "execute_result"
    }
   ],
   "source": [
    "ddy"
   ]
  },
  {
   "cell_type": "code",
   "execution_count": 335,
   "metadata": {},
   "outputs": [],
   "source": [
    "list=sym.solve(dy.subs(x,c), m)"
   ]
  },
  {
   "cell_type": "code",
   "execution_count": 336,
   "metadata": {},
   "outputs": [
    {
     "name": "stdout",
     "output_type": "stream",
     "text": [
      "m = \n"
     ]
    },
    {
     "data": {
      "text/plain": [
       "[-sqrt(9 - x**2), sqrt(9 - x**2), x - 3]"
      ]
     },
     "execution_count": 336,
     "metadata": {},
     "output_type": "execute_result"
    }
   ],
   "source": [
    "print(\"m = \")\n",
    "list"
   ]
  },
  {
   "cell_type": "code",
   "execution_count": null,
   "metadata": {},
   "outputs": [],
   "source": [
    "ddy.subs(x,c)"
   ]
  },
  {
   "cell_type": "code",
   "execution_count": null,
   "metadata": {},
   "outputs": [],
   "source": [
    "for i in list:\n",
    "    ddy1=ddy.subs(m, i).subs(x, c)\n",
    "    if ddy1<0:\n",
    "        print(\"Ham so dat cuc dai tai x = \"+str(c)+\" va m = \"+str(i))\n",
    "    elif ddy1>0:\n",
    "        print(\"Ham so dat cuc tieu tai x = \"+str(c)+\" va m = \"+str(i))\n"
   ]
  }
 ],
 "metadata": {
  "kernelspec": {
   "display_name": "Python 3",
   "language": "python",
   "name": "python3"
  },
  "language_info": {
   "codemirror_mode": {
    "name": "ipython",
    "version": 3
   },
   "file_extension": ".py",
   "mimetype": "text/x-python",
   "name": "python",
   "nbconvert_exporter": "python",
   "pygments_lexer": "ipython3",
   "version": "3.11.3"
  },
  "orig_nbformat": 4
 },
 "nbformat": 4,
 "nbformat_minor": 2
}
