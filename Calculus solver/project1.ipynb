{
 "cells": [
  {
   "cell_type": "code",
   "execution_count": 1,
   "metadata": {},
   "outputs": [],
   "source": [
    "import sympy as sym"
   ]
  },
  {
   "cell_type": "code",
   "execution_count": 2,
   "metadata": {},
   "outputs": [],
   "source": [
    "x = sym.Symbol('x')\n",
    "m = sym.Symbol('m')"
   ]
  },
  {
   "cell_type": "code",
   "execution_count": 9,
   "metadata": {},
   "outputs": [],
   "source": [
    "y=-x**4-(m-3)*x**2+m+1"
   ]
  },
  {
   "cell_type": "code",
   "execution_count": 10,
   "metadata": {},
   "outputs": [
    {
     "data": {
      "text/latex": [
       "$\\displaystyle m - x^{4} - x^{2} \\left(m - 3\\right) + 1$"
      ],
      "text/plain": [
       "m - x**4 - x**2*(m - 3) + 1"
      ]
     },
     "execution_count": 10,
     "metadata": {},
     "output_type": "execute_result"
    }
   ],
   "source": [
    "y"
   ]
  },
  {
   "cell_type": "code",
   "execution_count": 11,
   "metadata": {},
   "outputs": [],
   "source": [
    "dy=sym.diff(y,x)"
   ]
  },
  {
   "cell_type": "code",
   "execution_count": 13,
   "metadata": {},
   "outputs": [],
   "source": [
    "ddy=sym.diff(dy,x)"
   ]
  },
  {
   "cell_type": "code",
   "execution_count": 14,
   "metadata": {},
   "outputs": [
    {
     "data": {
      "text/latex": [
       "$\\displaystyle - 2 m - 12 x^{2} + 6$"
      ],
      "text/plain": [
       "-2*m - 12*x**2 + 6"
      ]
     },
     "execution_count": 14,
     "metadata": {},
     "output_type": "execute_result"
    }
   ],
   "source": [
    "ddy"
   ]
  },
  {
   "cell_type": "code",
   "execution_count": 24,
   "metadata": {},
   "outputs": [
    {
     "name": "stdout",
     "output_type": "stream",
     "text": [
      "[0, -sqrt(46)/2, sqrt(46)/2] , m = -20\n",
      "[0, -sqrt(11), sqrt(11)] , m = -19\n",
      "[0, -sqrt(42)/2, sqrt(42)/2] , m = -18\n",
      "[0, -sqrt(10), sqrt(10)] , m = -17\n",
      "[0, -sqrt(38)/2, sqrt(38)/2] , m = -16\n",
      "[-3, 0, 3] , m = -15\n",
      "[0, -sqrt(34)/2, sqrt(34)/2] , m = -14\n",
      "[0, -2*sqrt(2), 2*sqrt(2)] , m = -13\n",
      "[0, -sqrt(30)/2, sqrt(30)/2] , m = -12\n",
      "[0, -sqrt(7), sqrt(7)] , m = -11\n",
      "[0, -sqrt(26)/2, sqrt(26)/2] , m = -10\n",
      "[0, -sqrt(6), sqrt(6)] , m = -9\n",
      "[0, -sqrt(22)/2, sqrt(22)/2] , m = -8\n",
      "[0, -sqrt(5), sqrt(5)] , m = -7\n",
      "[0, -3*sqrt(2)/2, 3*sqrt(2)/2] , m = -6\n",
      "[-2, 0, 2] , m = -5\n",
      "[0, -sqrt(14)/2, sqrt(14)/2] , m = -4\n",
      "[0, -sqrt(3), sqrt(3)] , m = -3\n",
      "[0, -sqrt(10)/2, sqrt(10)/2] , m = -2\n",
      "[0, -sqrt(2), sqrt(2)] , m = -1\n",
      "[0, -sqrt(6)/2, sqrt(6)/2] , m = 0\n",
      "[-1, 0, 1] , m = 1\n",
      "[0, -sqrt(2)/2, sqrt(2)/2] , m = 2\n",
      "[0] , m = 3\n",
      "[0, -sqrt(2)*I/2, sqrt(2)*I/2] , m = 4\n",
      "[0, -I, I] , m = 5\n",
      "[0, -sqrt(6)*I/2, sqrt(6)*I/2] , m = 6\n",
      "[0, -sqrt(2)*I, sqrt(2)*I] , m = 7\n",
      "[0, -sqrt(10)*I/2, sqrt(10)*I/2] , m = 8\n",
      "[0, -sqrt(3)*I, sqrt(3)*I] , m = 9\n",
      "[0, -sqrt(14)*I/2, sqrt(14)*I/2] , m = 10\n",
      "[0, -2*I, 2*I] , m = 11\n",
      "[0, -3*sqrt(2)*I/2, 3*sqrt(2)*I/2] , m = 12\n",
      "[0, -sqrt(5)*I, sqrt(5)*I] , m = 13\n",
      "[0, -sqrt(22)*I/2, sqrt(22)*I/2] , m = 14\n",
      "[0, -sqrt(6)*I, sqrt(6)*I] , m = 15\n",
      "[0, -sqrt(26)*I/2, sqrt(26)*I/2] , m = 16\n",
      "[0, -sqrt(7)*I, sqrt(7)*I] , m = 17\n",
      "[0, -sqrt(30)*I/2, sqrt(30)*I/2] , m = 18\n",
      "[0, -2*sqrt(2)*I, 2*sqrt(2)*I] , m = 19\n"
     ]
    }
   ],
   "source": [
    "for i in range(-20,20):\n",
    "    i2=float(i)/2\n",
    "    list=sym.solve(dy.subs(m,i), x)\n",
    "    print(list ,\", m =\",str(i))"
   ]
  }
 ],
 "metadata": {
  "kernelspec": {
   "display_name": "Python 3",
   "language": "python",
   "name": "python3"
  },
  "language_info": {
   "codemirror_mode": {
    "name": "ipython",
    "version": 3
   },
   "file_extension": ".py",
   "mimetype": "text/x-python",
   "name": "python",
   "nbconvert_exporter": "python",
   "pygments_lexer": "ipython3",
   "version": "3.11.3"
  },
  "orig_nbformat": 4
 },
 "nbformat": 4,
 "nbformat_minor": 2
}
