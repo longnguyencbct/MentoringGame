{
 "cells": [
  {
   "cell_type": "code",
   "execution_count": 1,
   "metadata": {},
   "outputs": [],
   "source": [
    "string=\"hgufhjwkdoshgqqqwfrytytyuooaaaaadfffggkkllxbbcjbkvijvuhioAVEG132t6r\""
   ]
  },
  {
   "cell_type": "code",
   "execution_count": 9,
   "metadata": {},
   "outputs": [
    {
     "name": "stdout",
     "output_type": "stream",
     "text": [
      "{'h': 4, 'g': 4, 'u': 3, 'f': 5, 'j': 3, 'w': 2, 'k': 4, 'd': 2, 'o': 4, 's': 1, 'q': 3, 'r': 2, 'y': 3, 't': 3, 'a': 5, 'l': 2, 'x': 1, 'b': 3, 'c': 1, 'v': 2, 'i': 2, 'A': 1, 'V': 1, 'E': 1, 'G': 1, '1': 1, '3': 1, '2': 1, '6': 1}\n"
     ]
    }
   ],
   "source": [
    "d={}\n",
    "for c in string:\n",
    "    d[c]=d.get(c,0)+1\n",
    "    #print(d)\n",
    "print(d)"
   ]
  },
  {
   "cell_type": "code",
   "execution_count": 5,
   "metadata": {},
   "outputs": [
    {
     "name": "stdout",
     "output_type": "stream",
     "text": [
      "9\n"
     ]
    }
   ],
   "source": [
    "value1=1\n",
    "value2=5\n",
    "value3=7\n",
    "print(value2)\n",
    "{\"value1\":1,\n",
    " \"value2\":5,\n",
    " \"value3\":7}"
   ]
  }
 ],
 "metadata": {
  "kernelspec": {
   "display_name": "Python 3",
   "language": "python",
   "name": "python3"
  },
  "language_info": {
   "codemirror_mode": {
    "name": "ipython",
    "version": 3
   },
   "file_extension": ".py",
   "mimetype": "text/x-python",
   "name": "python",
   "nbconvert_exporter": "python",
   "pygments_lexer": "ipython3",
   "version": "3.11.6"
  },
  "orig_nbformat": 4
 },
 "nbformat": 4,
 "nbformat_minor": 2
}
